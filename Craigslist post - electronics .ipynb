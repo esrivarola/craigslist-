{
 "cells": [
  {
   "cell_type": "code",
   "execution_count": 5,
   "metadata": {},
   "outputs": [],
   "source": [
    "from selenium import webdriver"
   ]
  },
  {
   "cell_type": "code",
   "execution_count": 6,
   "metadata": {},
   "outputs": [],
   "source": [
    "chrome_path= r\"C:\\Users\\Owner\\Downloads\\chromedriver_win32\\chromedriver.exe\""
   ]
  },
  {
   "cell_type": "code",
   "execution_count": 7,
   "metadata": {},
   "outputs": [],
   "source": [
    "driver=webdriver.Chrome(chrome_path)"
   ]
  },
  {
   "cell_type": "code",
   "execution_count": 8,
   "metadata": {},
   "outputs": [],
   "source": [
    "driver.get(\"http://vancouver.craigslist.com\")"
   ]
  },
  {
   "cell_type": "code",
   "execution_count": 11,
   "metadata": {},
   "outputs": [],
   "source": [
    "driver.find_element_by_xpath(\"\"\"//*[@id=\"sss0\"]/li[19]/a\"\"\").click()"
   ]
  },
  {
   "cell_type": "code",
   "execution_count": 12,
   "metadata": {},
   "outputs": [],
   "source": [
    "posts = driver.find_elements_by_class_name(\"hdrlnk\")"
   ]
  },
  {
   "cell_type": "code",
   "execution_count": 14,
   "metadata": {},
   "outputs": [
    {
     "name": "stdout",
     "output_type": "stream",
     "text": [
      "VIZIO |E65-E1| 65\" 4K UHD 180ClearAction Led SmartCast TV\n",
      "Telus HD wireless tv box\n",
      "BRAND NEW SEALED IPAD PRO LATEST 10.5 SPACE GRAY 256GB WIFI\n",
      "Block rocker\n",
      "Pioneer stereo, sub woofer and speaker $100\n",
      "Go pro camera\n",
      "Canon Printer - Image Class D1350\n",
      "VIZIO |D50F-E1| 50\" 1080p 120Hz Led Smart TV\n",
      "Vintage Sony Boombox -Radio cassette recorder\n",
      "2 way radios\n",
      "Apple Magic Mouse 1st generation\n",
      "SAMSUNG |UN65MU6290| 65\" 4K UHD 120MR Led Smart TV\n",
      "Dyson TP02 Tower Fan\n",
      "Bowers & Wilkins Zeppelin speaker\n",
      "The Best TV for Pc Win TV (B-3)\n",
      "UNIDEN Wireless Security Camera\n",
      "Network DVI VGA HDMI APPLE OPTICAL Audio USB Cables\n",
      "Dyson HP02 Purifier Heater Fan\n",
      "32-80 inch Heavy Duty Full Motion Swivel Tilt TV Wall Mount\n",
      "Portable MP3 Jukebox w/Li-Ion Battery (Black/Red) - MP3 Jukebox\n",
      "High Quality DVi Cables\n",
      "3-100 Feet HDMI Cables High Quality Lowest Prices\n",
      "Amazon Kindle Keyboard 3rd Gen 3G WiFi w/ leather book sleeve\n",
      "Optical Audio SPeaker HDMI VGA DVI Network Power Cables\n",
      "Sony Portable CD/DVD player DVP-FX1 w/ 7in screen\n",
      "Component RGB RCA Cables Couplers Switches\n",
      "D-Link 480p WiFi BabyCam w/2-way Audio Night Vision Android APP\n",
      "Brookstone Wireless Mobile Projector Pro (996166)\n",
      "iSHot G7 Pro iPad holder w/ Tripod\n",
      "Magellan MiVue 1080p HD Dash Cam w/GPS Location\n",
      "10 - 23\" Adjustable Tilting DUAL TV Monitor Desk Mount Bracket\n",
      "10 - 23\" 3-Way Adjustable Tilting DUAL TV Monitor Desk Mount Bracket\n",
      "10-25 inch Triple Monitor Tv Desk Mount Bracket\n",
      "10\"- 23\" Adjustable Tilting QUAD TV Monitor Desk Mount Bracket\n",
      "10-23 inch Free Stand Alone Desk Top Monitor TV Mount Bracket\n",
      "10\" - 25\" 3 Way Adjustable Tilting TV Monitor Desk Mount Bracket\n",
      "Lelec Mini LED Projector w/HDMI VGA & SD Slot\n",
      "Sharp CCD Color Hidden Mirror Infrared Night Vision Security Camera\n",
      "Sale Continues TV Wall Mount DVD Projector Desk Mounts\n",
      "DVD Wall Shelves Mount Brackets Single Dual Triple\n",
      "Sony CCD Color Smoke Detector-Style Surveillance Dome Camera\n",
      "Coaxial Cables RG6 with F Type Connector\n",
      "Asante Friendlynet Fs5005 5-Port 10/100 Fast Ethernet Switch\n",
      "6.6 FT Sony HDMI Cables With Ethernet Gold Plated Tips\n",
      "TELEPHONE INSTALLER QUALITY TOOLS KIT C/W 26\" STANLEY STAND ON BOX TH\n",
      "Component RGB RCA Cables Couplers Switches\n",
      "Portable 5in Hard Shell GPS Carry Case Bag Zipper Cover Storage Pouch\n",
      "36-63 inch LED 3D 4K Full Motion Tv Bracket\n",
      "GRIFFIN Survivor Slim Samsung Galaxy Tab E 9.6\" Rugged Case, Blue -NEW\n",
      "TOSLINK Optical Digital Audio Cables and RCA COAX Converters\n",
      "Class A Yamaha MX-800u Power amp 175 watts ab 20 watts class A\n",
      "Dyson AM10 Humidifier\n",
      "Genuine Apple ADC Male to DVI Female Monitor Adaper Cable\n",
      "D-LINK Wireless N900 Dual Band Gigabit App-Enabled Router w/ SmartBea\n",
      "Dyson D66 Full Size Upright Vacuum Cleaner\n",
      "iPod nano 7th gen 16gb\n",
      "LG NB3530A bluetooth Sound Bar only\n",
      "160GB ipod classic 6th gen\n",
      "Asus\n",
      "(2) BRAND NEW IN-BOX Kicker Comp10 Subwoofers\n",
      "Dyson DP01 Desk Purifier Fan\n",
      "Samsung Galaxy Tab E 9.6\"\n",
      "Selected Power Cords\n",
      "Dyson Cenetic Canister Big Ball Vacuum Cleaner\n",
      "SELECTED CALCULATORS\n",
      "IKEA Format desk lamp\n",
      "GPS smart watch for sale\n",
      "Dyson Canister Big Ball Vacuum Cleaner\n",
      "Travel Essentials - grounded adaptor plug\n",
      "Canon camera PowerShot SX710HS 20.3 pixels brand new in box for sale\n",
      "PORTABLE DVD PLAYER dual screen\n",
      "Canon Elph Junior Gift Set - Great Picture Quality - Great Condition\n",
      "Marley Headphones - Great Sound - New\n",
      "Soaiy H26 Bluetooth Wireless Headset - Excellent Condition\n",
      "Gold Plated DVI-D 24pin to HDMI Video Cable for HDTV 15 Feet 5 Meters\n",
      "Marley Headphones - Great Sound - New\n",
      "Digital Photo Frame (NEW in box)\n",
      "Martin 00CXAE acoustic/electric guitar w/hardshell-!\n",
      "Olympus VN-3100PC Digital Voice Recorder 72 Hour\n",
      "iPhone 7 Plus - 128GB - Mint Condition - Unlocked\n",
      "Shaw Cable Box - Dual Tuner DVR - Motorola DCX3510-M\n",
      "Schumacher battery charger\n",
      "Monster BackFloat Waterproof Bluetooth Speaker\n",
      "Smart media/xd interface module (B-3)\n",
      "Audeze EL-8 Open-Back\n",
      "Brand new Premium smart phone\n",
      "MICROSOFT RT TABLET\n",
      "Dyson V7B Handheld Cordless Vacuum Cleaner\n",
      "Dyson V8 Handheld Cordless Vacuum Cleaner\n",
      "Ps4 500gb\n",
      "Vintage Sansui Stereo Receiver 7070 and JVC Turntable\n",
      "51\" HD 3D Samsung TV\n",
      "Toshiba pocket pc\n",
      "Monster Streamcast S1 High Def.Wireless Audio\n",
      "EV3A Intelligent Innovation e-GeForce 7900GT (B-3)\n",
      "Hauss home theatre\n",
      "4 TB WD RED NAS HARD DRIVE\n",
      "LED PROJECTOR\n",
      "3.5mm Male Plug to 2 RCA Male Stereo Audio AV Cable Adapter 10FT (3M)\n",
      "LED PROJECTOR\n",
      "Dyson V6B Handheld Cordless Vacuum Cleaner\n",
      "HALOCAM C1 DASH CAM\n",
      "MacBook Pro (Retina, 13 inch, Early 2015)\n",
      "Sony Wireless Over Ear Headphones\n",
      "Sony Over Ear Headphones (Black)\n",
      "Sony Noise Cancelling Over Ear Headphones\n",
      "Sony Over Ear Headphones\n",
      "Amazon fire TV stick\n",
      "D-Link Wireless Adapter - New Condition\n",
      "fm transmitter\n",
      "Polaroid Camera- Tiffany Blue\n",
      "Looking for older northern electric tube amplifiers\n",
      "Hometrends Ceiling fan - brand new\n",
      "Creative Sound Blaster X-Fi Surround 5.1\n",
      "AKAI CS-F9 Stereo Cassette Deck - 2 Head 2 Motor Unit Silver 1981 - 82\n",
      "26-44 inch Full Motion Swivel Tv Wall Mount Bracket\n",
      "Boxing Day Sale Continues On ALL TV Brackets And AV Cables & More\n",
      "Mini Bluetooth Speaker Jambox Jawbone\n",
      "36-65 inch Full Articulating Tilt Swivel TV Wall Mount\n",
      "Stable Series 36-70 inch Tilt TV Wall Mount Bracket\n"
     ]
    }
   ],
   "source": [
    "for post in posts:\n",
    "    print(post.text)"
   ]
  }
 ],
 "metadata": {
  "kernelspec": {
   "display_name": "Python 3",
   "language": "python",
   "name": "python3"
  },
  "language_info": {
   "codemirror_mode": {
    "name": "ipython",
    "version": 3
   },
   "file_extension": ".py",
   "mimetype": "text/x-python",
   "name": "python",
   "nbconvert_exporter": "python",
   "pygments_lexer": "ipython3",
   "version": "3.6.4"
  }
 },
 "nbformat": 4,
 "nbformat_minor": 2
}
